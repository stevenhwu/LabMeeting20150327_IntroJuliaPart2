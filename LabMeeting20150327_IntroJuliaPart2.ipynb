{
 "cells": [
  {
   "cell_type": "markdown",
   "metadata": {},
   "source": [
    "## Hello World Revisit###"
   ]
  },
  {
   "cell_type": "code",
   "execution_count": 157,
   "metadata": {
    "collapsed": false
   },
   "outputs": [
    {
     "name": "stdout",
     "output_type": "stream",
     "text": [
      "Hello World\n",
      "%sHello World\n"
     ]
    }
   ],
   "source": [
    "println(\"Hello World\")\n",
    "println(\"%s\", \"Hello World\")\n"
   ]
  },
  {
   "cell_type": "markdown",
   "metadata": {},
   "source": [
    "Alternative way, use macro **@print**"
   ]
  },
  {
   "cell_type": "code",
   "execution_count": 158,
   "metadata": {
    "collapsed": false
   },
   "outputs": [
    {
     "name": "stdout",
     "output_type": "stream",
     "text": [
      "Hello World\n",
      "Macro: Hello World\n",
      "Hello 12 Worlds\n"
     ]
    }
   ],
   "source": [
    "@printf \"%s\\n\" \"Hello World\"\n",
    "@printf \"Macro: %s %s\\n\" \"Hello\" \"World\"\n",
    "\n",
    "number = 12\n",
    "text = \"Hello\"\n",
    "text2 = \"Worlds\"\n",
    "@printf \"%s %d %s\\n\" text number \"$text2\""
   ]
  },
  {
   "cell_type": "markdown",
   "metadata": {},
   "source": [
    "## Basic Functions###"
   ]
  },
  {
   "cell_type": "code",
   "execution_count": 159,
   "metadata": {
    "collapsed": false
   },
   "outputs": [
    {
     "name": "stdout",
     "output_type": "stream",
     "text": [
      "16\n",
      "25\n"
     ]
    }
   ],
   "source": [
    "square(x) = x*x\n",
    "println(square(4))\n",
    "println(square(5))"
   ]
  },
  {
   "cell_type": "code",
   "execution_count": 160,
   "metadata": {
    "collapsed": false
   },
   "outputs": [
    {
     "data": {
      "text/plain": [
       "64"
      ]
     },
     "execution_count": 160,
     "metadata": {},
     "output_type": "execute_result"
    }
   ],
   "source": [
    "function x²(x)\n",
    "    return x*x\n",
    "end\n",
    "#x\\^2 tab \n",
    "x²(8)"
   ]
  },
  {
   "cell_type": "markdown",
   "metadata": {},
   "source": [
    "### **Keyword Arguments with semicolon `;`**"
   ]
  },
  {
   "cell_type": "code",
   "execution_count": 161,
   "metadata": {
    "collapsed": false
   },
   "outputs": [
    {
     "name": "stdout",
     "output_type": "stream",
     "text": [
      "64\n",
      "81\n"
     ]
    }
   ],
   "source": [
    "function xʸ( ; x=null, y=null)\n",
    "    return x^y\n",
    "end\n",
    "\n",
    "println( xʸ(x=4, y=3) )\n",
    "println( xʸ(y=4, x=3) )\n"
   ]
  },
  {
   "cell_type": "markdown",
   "metadata": {},
   "source": [
    "What happen without the semicolon **`;`** ?"
   ]
  },
  {
   "cell_type": "code",
   "execution_count": 162,
   "metadata": {
    "collapsed": false
   },
   "outputs": [
    {
     "name": "stdout",
     "output_type": "stream",
     "text": [
      "64\n"
     ]
    },
    {
     "ename": "LoadError",
     "evalue": "function power does not accept keyword arguments\nwhile loading In[162], in expression starting on line 5",
     "output_type": "error",
     "traceback": [
      "function power does not accept keyword arguments\nwhile loading In[162], in expression starting on line 5",
      ""
     ]
    }
   ],
   "source": [
    "function power(x=null, y=null)\n",
    "    return x^y\n",
    "end\n",
    "println( power(4,3) )\n",
    "println( power(x=4, y=3) ) #error here!"
   ]
  },
  {
   "cell_type": "markdown",
   "metadata": {},
   "source": [
    "### **Varargs Functions with `...`**\n",
    "\n",
    "This allows variable number of arguments."
   ]
  },
  {
   "cell_type": "code",
   "execution_count": 163,
   "metadata": {
    "collapsed": false
   },
   "outputs": [
    {
     "name": "stdout",
     "output_type": "stream",
     "text": [
      "12\n",
      "45\n"
     ]
    }
   ],
   "source": [
    "function ∑(arg...)\n",
    "    sum = 0\n",
    "    for i in arg\n",
    "        sum+=i\n",
    "    end\n",
    "    return sum\n",
    "end\n",
    "\n",
    "println( ∑(3,4,5) )\n",
    "println( ∑(1,2,3,4,5,6,7,8,9) )\n"
   ]
  },
  {
   "cell_type": "markdown",
   "metadata": {},
   "source": [
    "## Coding convention - Append ! to names of functions that modify their arguments###\n",
    "http://julia.readthedocs.org/en/latest/manual/style-guide/#append-to-names-of-functions-that-modify-their-arguments"
   ]
  },
  {
   "cell_type": "code",
   "execution_count": 164,
   "metadata": {
    "collapsed": false
   },
   "outputs": [
    {
     "name": "stdout",
     "output_type": "stream",
     "text": [
      "Orig:\t[0.7949082860194716,0.3487890794155215,0.35763668258127046,0.00042488823133357556,0.1298514591993345]\n",
      "sort:\t[0.7949082860194716,0.3487890794155215,0.35763668258127046,0.00042488823133357556,0.1298514591993345]\n",
      "sort!:\t[0.00042488823133357556,0.1298514591993345,0.3487890794155215,0.35763668258127046,0.7949082860194716]\n"
     ]
    }
   ],
   "source": [
    "arr = rand(5)\n",
    "println(\"Orig:\\t\", arr)\n",
    "\n",
    "sort(arr)\n",
    "println(\"sort:\\t\", arr)## order unchanged\n",
    "\n",
    "sort!(arr)\n",
    "println(\"sort!:\\t\", arr)\n"
   ]
  },
  {
   "cell_type": "markdown",
   "metadata": {},
   "source": [
    "## Unittest\n",
    "\n",
    "**@test(ex)**\n",
    "Test the expression `ex` and calls the current handler to handle the result.\n",
    "\n",
    "**@test_throws(extype, ex)**\n",
    "Test that the expression `ex` throws an exception of type `extype` and calls the current handler to handle the result.\n",
    "\n",
    "**@test_approx_eq(a, b)**\n",
    "Test two floating point numbers `a` and `b` for equality taking in account small numerical errors.\n",
    "\n",
    "**@test_approx_eq_eps(a, b, tol)**\n",
    "Test two floating point numbers `a` and `b` for equality taking in account a margin of tolerance given by `tol`."
   ]
  },
  {
   "cell_type": "code",
   "execution_count": 165,
   "metadata": {
    "collapsed": true
   },
   "outputs": [],
   "source": [
    "using Base.Test\n",
    "\n",
    "@test 1 == 1 "
   ]
  },
  {
   "cell_type": "code",
   "execution_count": 166,
   "metadata": {
    "collapsed": false
   },
   "outputs": [
    {
     "ename": "LoadError",
     "evalue": "test failed: 1 == 0\nwhile loading In[166], in expression starting on line 1",
     "output_type": "error",
     "traceback": [
      "test failed: 1 == 0\nwhile loading In[166], in expression starting on line 1",
      ""
     ]
    }
   ],
   "source": [
    "@test 1 == 0  "
   ]
  },
  {
   "cell_type": "code",
   "execution_count": 167,
   "metadata": {
    "collapsed": true
   },
   "outputs": [],
   "source": [
    "@test_throws ErrorException error(\"An error\")  #pass"
   ]
  },
  {
   "cell_type": "code",
   "execution_count": 168,
   "metadata": {
    "collapsed": false
   },
   "outputs": [
    {
     "ename": "LoadError",
     "evalue": "test failed: error(\"An error\")\nwhile loading In[168], in expression starting on line 1",
     "output_type": "error",
     "traceback": [
      "test failed: error(\"An error\")\nwhile loading In[168], in expression starting on line 1",
      ""
     ]
    }
   ],
   "source": [
    "@test_throws BoundsError error(\"An error\")  #fail"
   ]
  },
  {
   "cell_type": "code",
   "execution_count": 169,
   "metadata": {
    "collapsed": true
   },
   "outputs": [],
   "source": [
    "@test_throws DomainError throw(DomainError()) #pass"
   ]
  },
  {
   "cell_type": "code",
   "execution_count": 170,
   "metadata": {
    "collapsed": false
   },
   "outputs": [
    {
     "ename": "LoadError",
     "evalue": "test failed: throw(EOFError())\nwhile loading In[170], in expression starting on line 1",
     "output_type": "error",
     "traceback": [
      "test failed: throw(EOFError())\nwhile loading In[170], in expression starting on line 1",
      ""
     ]
    }
   ],
   "source": [
    "@test_throws DomainError throw(EOFError()) #fail"
   ]
  },
  {
   "cell_type": "code",
   "execution_count": 171,
   "metadata": {
    "collapsed": false
   },
   "outputs": [
    {
     "ename": "LoadError",
     "evalue": "assertion failed: |1.0 - 0.999999999| <= 2.220446049250313e-12\n  1.0 = 1.0\n  0.999999999 = 0.999999999\n  difference = 9.999999717180685e-10 > 2.220446049250313e-12\nwhile loading In[171], in expression starting on line 1",
     "output_type": "error",
     "traceback": [
      "assertion failed: |1.0 - 0.999999999| <= 2.220446049250313e-12\n  1.0 = 1.0\n  0.999999999 = 0.999999999\n  difference = 9.999999717180685e-10 > 2.220446049250313e-12\nwhile loading In[171], in expression starting on line 1",
      ""
     ]
    }
   ],
   "source": [
    "@test_approx_eq 1. 0.999999999 #fail"
   ]
  },
  {
   "cell_type": "code",
   "execution_count": 172,
   "metadata": {
    "collapsed": true
   },
   "outputs": [],
   "source": [
    "@test_approx_eq 1. 0.9999999999999 #pass"
   ]
  },
  {
   "cell_type": "code",
   "execution_count": 173,
   "metadata": {
    "collapsed": false
   },
   "outputs": [],
   "source": [
    "@test_approx_eq_eps 1. 0.999 1e-2  #pass"
   ]
  },
  {
   "cell_type": "code",
   "execution_count": 174,
   "metadata": {
    "collapsed": false,
    "scrolled": true
   },
   "outputs": [
    {
     "ename": "LoadError",
     "evalue": "assertion failed: |1.0 - 0.999| <= 0.0001\n  1.0 = 1.0\n  0.999 = 0.999\n  difference = 0.0010000000000000009 > 0.0001\nwhile loading In[174], in expression starting on line 1",
     "output_type": "error",
     "traceback": [
      "assertion failed: |1.0 - 0.999| <= 0.0001\n  1.0 = 1.0\n  0.999 = 0.999\n  difference = 0.0010000000000000009 > 0.0001\nwhile loading In[174], in expression starting on line 1",
      ""
     ]
    }
   ],
   "source": [
    "@test_approx_eq_eps 1. 0.999 1e-4  #fail"
   ]
  },
  {
   "cell_type": "markdown",
   "metadata": {},
   "source": [
    "## Type (class-like)##\n",
    "\n",
    "http://julia.readthedocs.org/en/latest/manual/types/\n",
    "\n",
    "Describing Julia in the lingo of type systems, it is: **dynamic, nominative and parametric.**\n",
    "\n",
    "Generic types can be parameterized, and the hierarchical relationships between types are explicitly declared, rather than implied by compatible structure. \n",
    "One particularly distinctive feature of Julia’s type system is that concrete types may not subtype each other: all concrete types are final and may only have abstract types as their supertypes. \n",
    "\n",
    "\n",
    " - **Dynamic (wiki):**\n",
    "Dynamic type-checking and runtime type information\n",
    "Dynamic type-checking is the process of verifying the type safety of a program at runtime. Implementations of dynamically type-checked languages generally associate each runtime object with a \"type tag\" (i.e., a reference to a type) containing its type information. \n",
    "\n",
    " - **Nominative (wiki):**\n",
    "In computer science, a nominal or nominative type system (or name-based type system) is a major class of type system, in which compatibility and equivalence of data types is determined by explicit declarations and/or the name of the types. Nominal systems are used to determine if types are equivalent, as well as if a type is a subtype of another. It contrasts with structural systems, where comparisons are based on the structure of the types in question and do not require explicit declarations.\n",
    "\n",
    "    The types Bool, Int8 and UInt8 all have identical representations: they are eight-bit chunks of memory. Since Julia’s type system is nominative, however, they are not interchangeable despite having identical structure. Another fundamental difference between them is that they have different supertypes: Bool‘s direct supertype is Integer, Int8‘s is Signed, and UInt8‘s is Unsigned. All other differences between Bool, Int8, and UInt8 are matters of behavior — the way functions are defined to act when given objects of these types as arguments. This is why a nominative type system is necessary: if structure determined type, which in turn dictates behavior, then it would be impossible to make Bool behave any differently than Int8 or UInt8.t\n",
    "\n",
    " - **Parametric (julia):**\n",
    "Types can take parameters, so that type declarations actually introduce a whole family of new types — one for each possible combination of parameter values. "
   ]
  },
  {
   "cell_type": "code",
   "execution_count": 175,
   "metadata": {
    "collapsed": false
   },
   "outputs": [
    {
     "name": "stdout",
     "output_type": "stream",
     "text": [
      "true\n",
      "false\n",
      "true\n",
      "false\n"
     ]
    }
   ],
   "source": [
    "println(  Integer <: Number  )\n",
    "println(  Integer <: FloatingPoint  )\n",
    "println(  issubtype(Integer, Number)  )\n",
    "println(  issubtype(Integer, FloatingPoint)  )"
   ]
  },
  {
   "cell_type": "code",
   "execution_count": 176,
   "metadata": {
    "collapsed": false
   },
   "outputs": [
    {
     "name": "stdout",
     "output_type": "stream",
     "text": [
      "Real\n",
      "Number\n"
     ]
    }
   ],
   "source": [
    "println(  super(Integer)  )\n",
    "println(  super(Real)  )"
   ]
  },
  {
   "cell_type": "code",
   "execution_count": 177,
   "metadata": {
    "collapsed": false
   },
   "outputs": [
    {
     "data": {
      "text/plain": [
       "2-element Array{Any,1}:\n",
       " Complex{T<:Real}\n",
       " Real            "
      ]
     },
     "execution_count": 177,
     "metadata": {},
     "output_type": "execute_result"
    }
   ],
   "source": [
    "subtypes(Number)"
   ]
  },
  {
   "cell_type": "code",
   "execution_count": 178,
   "metadata": {
    "collapsed": false
   },
   "outputs": [
    {
     "data": {
      "text/plain": [
       "4-element Array{Any,1}:\n",
       " FloatingPoint       \n",
       " Integer             \n",
       " MathConst{sym}      \n",
       " Rational{T<:Integer}"
      ]
     },
     "execution_count": 178,
     "metadata": {},
     "output_type": "execute_result"
    }
   ],
   "source": [
    "subtypes(Real) "
   ]
  },
  {
   "cell_type": "code",
   "execution_count": 179,
   "metadata": {
    "collapsed": false
   },
   "outputs": [
    {
     "name": "stdout",
     "output_type": "stream",
     "text": [
      "true\n",
      "false\n"
     ]
    }
   ],
   "source": [
    "println(  isa(1, Number)  )\n",
    "println(  isa(1.1, Integer)  )"
   ]
  },
  {
   "cell_type": "markdown",
   "metadata": {},
   "source": [
    "### **Parametric Types**"
   ]
  },
  {
   "cell_type": "code",
   "execution_count": 180,
   "metadata": {
    "collapsed": false
   },
   "outputs": [
    {
     "name": "stdout",
     "output_type": "stream",
     "text": [
      "3 is a Int64\n",
      "3.2 is a Float64\n",
      "1:3 is a UnitRange{Int64}\n",
      "22//7 is a Rational{Int64}\n",
      "test is a ASCIIString\n"
     ]
    }
   ],
   "source": [
    "function test{T <: Any}(a::T)\n",
    "    println(\"$a is a $T\")\n",
    "end\n",
    "\n",
    "test(3)  \n",
    "test(3.2)\n",
    "test(1:3)\n",
    "test(22//7)\n",
    "test(\"test\")\n"
   ]
  },
  {
   "cell_type": "code",
   "execution_count": 181,
   "metadata": {
    "collapsed": false
   },
   "outputs": [
    {
     "name": "stdout",
     "output_type": "stream",
     "text": [
      "3 is a Int\n",
      "3.2 is a Number\n",
      "22//7 is a Number\n",
      "this is a String\n"
     ]
    },
    {
     "ename": "LoadError",
     "evalue": "`testType` has no method matching testType(::UnitRange{Int64})\nwhile loading In[181], in expression starting on line 17",
     "output_type": "error",
     "traceback": [
      "`testType` has no method matching testType(::UnitRange{Int64})\nwhile loading In[181], in expression starting on line 17",
      ""
     ]
    }
   ],
   "source": [
    "function testType{T <: Int}(a::T)\n",
    "    println(\"$a is a Int\")\n",
    "end\n",
    "\n",
    "function testType{T <: Number}(a::T)\n",
    "    println(\"$a is a Number\")\n",
    "end\n",
    "\n",
    "function testType{T <: String}(a::T)\n",
    "    println(\"$a is a String\")\n",
    "end\n",
    "\n",
    "testType(3)  \n",
    "testType(3.2)\n",
    "testType(22//7)\n",
    "testType(\"this\")\n",
    "testType(1:3) ## Error! has no method matching testType(::UnitRange{Int64})"
   ]
  },
  {
   "cell_type": "code",
   "execution_count": 182,
   "metadata": {
    "collapsed": false
   },
   "outputs": [
    {
     "data": {
      "text/html": [
       "3 methods for generic function <b>testType</b>:<ul><li> testType<i>{T<:Int64}</i>(a::<b>T<:Int64</b>) at In[181]:2<li> testType<i>{T<:Number}</i>(a::<b>T<:Number</b>) at In[181]:6<li> testType<i>{T<:String}</i>(a::<b>T<:String</b>) at In[181]:10</ul>"
      ],
      "text/plain": [
       "# 3 methods for generic function \"testType\":\n",
       "testType{T<:Int64}(a::T<:Int64) at In[181]:2\n",
       "testType{T<:Number}(a::T<:Number) at In[181]:6\n",
       "testType{T<:String}(a::T<:String) at In[181]:10"
      ]
     },
     "execution_count": 182,
     "metadata": {},
     "output_type": "execute_result"
    }
   ],
   "source": [
    "methods(testType) ## Find out all methods assocated with testType"
   ]
  },
  {
   "cell_type": "markdown",
   "metadata": {},
   "source": [
    "### **abstract and concrete types**\n",
    "\n",
    "\n",
    "Julia’s type system is that concrete types may not subtype each other: all concrete types are final and may only have abstract types as their supertypes. \n"
   ]
  },
  {
   "cell_type": "code",
   "execution_count": 183,
   "metadata": {
    "collapsed": false
   },
   "outputs": [
    {
     "name": "stdout",
     "output_type": "stream",
     "text": [
      "Postdoc(101)\n",
      "super(Postdoc):Person\n"
     ]
    }
   ],
   "source": [
    "\n",
    "abstract Person\n",
    "\n",
    "type Postdoc <: Person\n",
    "    id::Int64\n",
    "end\n",
    "\n",
    "p1 = Postdoc(101)\n",
    "println(p1)\n",
    "println(\"super(Postdoc):\", super(Postdoc))\n"
   ]
  },
  {
   "cell_type": "code",
   "execution_count": 184,
   "metadata": {
    "collapsed": false
   },
   "outputs": [
    {
     "ename": "LoadError",
     "evalue": "invalid redefinition of constant Postdoc\nwhile loading In[184], in expression starting on line 3",
     "output_type": "error",
     "traceback": [
      "invalid redefinition of constant Postdoc\nwhile loading In[184], in expression starting on line 3",
      ""
     ]
    }
   ],
   "source": [
    "abstract Minion\n",
    "\n",
    "type Postdoc <: Minion\n",
    "\tid::Int64\n",
    "\tname::String\n",
    "\tproject::String\n",
    "\tPostdoc(id, name, project) = new(id, name, project)\n",
    "\tPostdoc(id, name) = new(id, name, \"Nothing to do\")\n",
    "end\n",
    "Postdoc(id) = Postdoc(id, \"No Name\", \"Nothing to do\")\n",
    "\n",
    "## you will get \"invalid redefinition of constant Postdoc\""
   ]
  },
  {
   "cell_type": "markdown",
   "metadata": {},
   "source": [
    "### Using module part 1\n",
    "\n",
    "Often you will get \"Error: invalid redefinition of constant Postdoc\" or something similar\n",
    "\n",
    "http://julia.readthedocs.org/en/latest/manual/faq/?highlight=redefine\n",
    "\n",
    "http://julia.readthedocs.org/en/latest/manual/modules/\n",
    "\n",
    "use `module` to redefine this.\n",
    "Read about `using`, `import`, `export`"
   ]
  },
  {
   "cell_type": "code",
   "execution_count": 185,
   "metadata": {
    "collapsed": false
   },
   "outputs": [
    {
     "name": "stderr",
     "output_type": "stream",
     "text": [
      "Warning: replacing module MinionModule\n"
     ]
    }
   ],
   "source": [
    "module MinionModule\n",
    "#http://julia.readthedocs.org/en/latest/manual/modules/\n",
    "# using vs import\n",
    "\n",
    "abstract Minion ## abstract type\n",
    "\n",
    "function printMinion(p)\n",
    "    println(\"print: \\t\", p.id, \"\\t\", p.name, \"\\t\", p.project)\n",
    "end\n",
    "\n",
    "function getID(p::Minion)\n",
    "\treturn p.id\n",
    "end\n",
    "\n",
    "type Postdoc <: Minion\n",
    "\tid::Int64\n",
    "\tname::String\n",
    "\tproject::String\n",
    "\tPostdoc(id, name, project) = new(id, name, project)\n",
    "\tPostdoc(id, name) = new(id, name, \"Nothing to do\")\n",
    "end\n",
    "Postdoc(id) = Postdoc(id, \"No Name\", \"Nothing to do\")\n",
    "## multiple constructors\n",
    "\n",
    "\n",
    "type Student <: Minion\n",
    "\tid::Int64\n",
    "\tname::String\n",
    "\tproject::String\n",
    "\tStudent(id, name, project) = new(id, name, project)\n",
    "\tStudent(id) = new(id, \"No Name\", \"Nothing to do\")\n",
    "end\n",
    "\n",
    "end\n"
   ]
  },
  {
   "cell_type": "code",
   "execution_count": 186,
   "metadata": {
    "collapsed": false
   },
   "outputs": [
    {
     "name": "stdout",
     "output_type": "stream",
     "text": [
      "Minion\n",
      "Minion\n",
      "Any\n"
     ]
    }
   ],
   "source": [
    "using MinionModule\n",
    "\n",
    "println( super(MinionModule.Postdoc) )\n",
    "println( super(MinionModule.Student) )\n",
    "println( super(MinionModule.Minion) )\n"
   ]
  },
  {
   "cell_type": "code",
   "execution_count": 187,
   "metadata": {
    "collapsed": false
   },
   "outputs": [
    {
     "name": "stdout",
     "output_type": "stream",
     "text": [
      "ID: 101\n",
      "ID: 102\n",
      "ID: 103\n",
      "print: \t101\tNo Name\tNothing to do\n",
      "print: \t102\tName2\tNothing to do\n",
      "print: \t103\tName3\twork hard\n",
      "ID: 201\n",
      "print: \t201\tNo Name\tNothing to do\n",
      "ID: 202\n",
      "print: \t202\tNo Name\tNothing to do\n"
     ]
    }
   ],
   "source": [
    "using MinionModule\n",
    "\n",
    "p1 = MinionModule.Postdoc(101)\n",
    "p2 = MinionModule.Postdoc(102, \"Name2\")\n",
    "p3 = MinionModule.Postdoc(103, \"Name3\", \"work hard\")\n",
    "\n",
    "println(\"ID: \",MinionModule.getID(p1))\n",
    "println(\"ID: \",MinionModule.getID(p2))\n",
    "println(\"ID: \",MinionModule.getID(p3))\n",
    "\n",
    "MinionModule.printMinion(p1)\n",
    "MinionModule.printMinion(p2)\n",
    "MinionModule.printMinion(p3)\n",
    "\n",
    "s1 = MinionModule.Student(201)\n",
    "s2 = MinionModule.Student(202)\n",
    "\n",
    "println(\"ID: \",MinionModule.getID(s1))\n",
    "MinionModule.printMinion(s1)\n",
    "println(\"ID: \",MinionModule.getID(s2))\n",
    "MinionModule.printMinion(s2)\n",
    "\n"
   ]
  },
  {
   "cell_type": "markdown",
   "metadata": {},
   "source": [
    "###Using module part 2\n",
    "\n",
    "Let's add a few more types to this module."
   ]
  },
  {
   "cell_type": "code",
   "execution_count": 188,
   "metadata": {
    "collapsed": false
   },
   "outputs": [
    {
     "name": "stderr",
     "output_type": "stream",
     "text": [
      "Warning: replacing module MinionModule\n"
     ]
    }
   ],
   "source": [
    "module MinionModule\n",
    "#http://julia.readthedocs.org/en/latest/manual/modules/\n",
    "# using vs import\n",
    "\n",
    "abstract Minion ## abstract type\n",
    "\n",
    "function printMinion(p) ## Take all type\n",
    "    println(\"print: \\t\", p.id, \"\\t\", p.name, \"\\t\", p.project)\n",
    "end\n",
    "\n",
    "function getID(p::Minion) ## only take Minion type\n",
    "\treturn p.id\n",
    "end\n",
    "\n",
    "type Postdoc <: Minion\n",
    "\tid::Int64\n",
    "\tname::String\n",
    "\tproject::String\n",
    "\tPostdoc(id, name, project) = new(id, name, project)\n",
    "\tPostdoc(id, name) = new(id, name, \"Nothing to do\")\n",
    "end\n",
    "Postdoc(id) = Postdoc(id, \"No Name\", \"Nothing to do\")\n",
    "## multiple constructors\n",
    "\n",
    "\n",
    "type Student <: Minion\n",
    "\tid::Int64\n",
    "\tname::String\n",
    "\tproject::String\n",
    "\tStudent(id, name, project) = new(id, name, project)\n",
    "\tStudent(id) = new(id, \"No Name\", \"Nothing to do\")\n",
    "end\n",
    "\n",
    "##Visitor is belong to ::Any\n",
    "type Visitor\n",
    "\tid::Int64\n",
    "\tname::String\n",
    "\tproject::String\n",
    "end\n",
    "\n",
    "end"
   ]
  },
  {
   "cell_type": "markdown",
   "metadata": {},
   "source": [
    "The `Visitor` type does not belong to `Minion`. So it will work with `printMinion()` but **NOT** `getID()`"
   ]
  },
  {
   "cell_type": "code",
   "execution_count": 189,
   "metadata": {
    "collapsed": false
   },
   "outputs": [
    {
     "name": "stdout",
     "output_type": "stream",
     "text": [
      "print: \t800\tV1\tN/A\n"
     ]
    },
    {
     "ename": "LoadError",
     "evalue": "`getID` has no method matching getID(::Visitor)\nwhile loading In[189], in expression starting on line 4",
     "output_type": "error",
     "traceback": [
      "`getID` has no method matching getID(::Visitor)\nwhile loading In[189], in expression starting on line 4",
      ""
     ]
    }
   ],
   "source": [
    "using MinionModule\n",
    "v1 = MinionModule.Visitor(800, \"V1\", \"N/A\")\n",
    "MinionModule.printMinion(v1)\n",
    "MinionModule.getID(v1)# ERROR!\n",
    "#This is **NOT** what do we want. let's change it below\n"
   ]
  },
  {
   "cell_type": "markdown",
   "metadata": {
    "collapsed": true
   },
   "source": [
    "###Using module part 3\n",
    "\n",
    "Let's add some another `abstract` class call `person`. And change the type for `printMinion` and `getID`.\n",
    "\n",
    "And let's also add a function `minionType` associate with each type."
   ]
  },
  {
   "cell_type": "code",
   "execution_count": 190,
   "metadata": {
    "collapsed": false
   },
   "outputs": [
    {
     "name": "stderr",
     "output_type": "stream",
     "text": [
      "Warning: replacing module MinionModule\n"
     ]
    }
   ],
   "source": [
    "module MinionModule\n",
    "#http://julia.readthedocs.org/en/latest/manual/modules/\n",
    "# using vs import\n",
    "\n",
    "abstract Person ## abstract type\n",
    "abstract Minion <: Person\n",
    "\n",
    "function printMinion(p::Minion)\n",
    "    println(\"print: \\t\", p.id, \"\\t\", p.name, \"\\t\", p.project)\n",
    "end\n",
    "\n",
    "function getID{T <: Person}(p::T) \n",
    "\treturn p.id\n",
    "end\n",
    "\n",
    "type Postdoc <: Minion\n",
    "\tid::Int64\n",
    "\tname::String\n",
    "\tproject::String\n",
    "\tPostdoc(id, name, project) = new(id, name, project)\n",
    "\tPostdoc(id, name) = new(id, name, \"Nothing to do\")\n",
    "end\n",
    "Postdoc(id) = Postdoc(id, \"No Name\", \"Nothing to do\")\n",
    "## multiple constructors\n",
    "\n",
    "\n",
    "type Student <: Minion\n",
    "\tid::Int64\n",
    "\tname::String\n",
    "\tproject::String\n",
    "\tStudent(id, name, project) = new(id, name, project)\n",
    "\tStudent(id) = new(id, \"No Name\", \"Nothing to do\")\n",
    "end\n",
    "\n",
    "##Visitor is belong to ::Person\n",
    "type Visitor <: Person\n",
    "\tid::Int64\n",
    "\tname::String\n",
    "\tproject::String\n",
    "end\n",
    "\n",
    "\n",
    "function minionType(p::Minion)\n",
    "    \"Minion \", p.id # access type properties using dot notation\n",
    "end\n",
    "\n",
    "function minionType(p::Student)\n",
    "    \"Student\", p.id\n",
    "end\n",
    "\n",
    "function minionType{T <: Person}(p::T)\n",
    "    \"Person\", p.id\n",
    "end\n",
    "\n",
    "\n",
    "end"
   ]
  },
  {
   "cell_type": "code",
   "execution_count": 191,
   "metadata": {
    "collapsed": false
   },
   "outputs": [
    {
     "name": "stdout",
     "output_type": "stream",
     "text": [
      "ID: 103\n",
      "print: \t103\tName3\twork hard\n",
      "ID: 201\n",
      "print: \t201\tNo Name\tNothing to do\n",
      "ID: 800"
     ]
    },
    {
     "ename": "LoadError",
     "evalue": "`printMinion` has no method matching printMinion(::Visitor)\nwhile loading In[191], in expression starting on line 16",
     "output_type": "error",
     "traceback": [
      "`printMinion` has no method matching printMinion(::Visitor)\nwhile loading In[191], in expression starting on line 16",
      ""
     ]
    }
   ],
   "source": [
    "using MinionModule\n",
    "\n",
    "\n",
    "p3 = MinionModule.Postdoc(103, \"Name3\", \"work hard\")\n",
    "\n",
    "println(\"ID: \",MinionModule.getID(p3))\n",
    "MinionModule.printMinion(p3)\n",
    "\n",
    "s1 = MinionModule.Student(201)\n",
    "println(\"ID: \",MinionModule.getID(s1))\n",
    "MinionModule.printMinion(s1)\n",
    "\n",
    "\n",
    "v1 = MinionModule.Visitor(800, \"V1\", \"N/A\")\n",
    "print(\"ID: \",MinionModule.getID(v1) )\n",
    "MinionModule.printMinion(v1) # ERROR! has no method matching printMinion(::Visitor)\n",
    "#This is what we expected, getID works on all `Person` but printMinion only works no `Minion`\n",
    "#Visitor is not a Minion"
   ]
  },
  {
   "cell_type": "code",
   "execution_count": 192,
   "metadata": {
    "collapsed": false
   },
   "outputs": [
    {
     "name": "stdout",
     "output_type": "stream",
     "text": [
      "{Minion,Visitor}\n",
      "{Postdoc,Student}\n",
      "Minion"
     ]
    },
    {
     "data": {
      "text/html": [
       "1 method for generic function <b>getID</b>:<ul><li> getID<i>{T<:Person}</i>(p::<b>T<:Person</b>) at In[190]:13</ul>"
      ],
      "text/plain": [
       "# 1 method for generic function \"getID\":\n",
       "getID{T<:Person}(p::T<:Person) at In[190]:13"
      ]
     },
     "execution_count": 192,
     "metadata": {},
     "output_type": "execute_result"
    }
   ],
   "source": [
    "using MinionModule\n",
    "println(subtypes(MinionModule.Person))\n",
    "println(subtypes(MinionModule.Minion))\n",
    "print(super(MinionModule.Postdoc))\n",
    "methods(MinionModule.getID)\n"
   ]
  },
  {
   "cell_type": "markdown",
   "metadata": {},
   "source": [
    "###Not the julia way\n",
    "\n",
    "What you can **NOT** do in Julia is bind function to the type.\n",
    "\n",
    "Well, yes, it's doable if you google it, but people sort of agree that this is not the julia way\n",
    "https://thenewphalls.wordpress.com/2014/02/19/understanding-object-oriented-programming-in-julia-part-1/\n",
    "https://thenewphalls.wordpress.com/2014/03/06/understanding-object-oriented-programming-in-julia-inheritance-part-2/\n",
    "\n",
    "```julia\n",
    "type Programmer \n",
    "    ...\n",
    "    ## Many OO program will \"link/associate\" function with it's type\n",
    "    function AssignProjcet (newProjcet)\n",
    "        project = newProjcet\n",
    "    end\n",
    "    # NOT quite what julia is design for\n",
    "end\n",
    "\n",
    "\n",
    "prog1 = Programmer(10, \"old project\")\n",
    "prog1.AssignProjcet(\"new project\") ## Does NOT work here\n",
    "```"
   ]
  },
  {
   "cell_type": "code",
   "execution_count": 193,
   "metadata": {
    "collapsed": false,
    "scrolled": false
   },
   "outputs": [
    {
     "name": "stderr",
     "output_type": "stream",
     "text": [
      "Warning: replacing module Fail\n"
     ]
    },
    {
     "name": "stdout",
     "output_type": "stream",
     "text": [
      "Programmer(10,\"old project\")\n"
     ]
    },
    {
     "ename": "LoadError",
     "evalue": "type Programmer has no field AssignProjcet\nwhile loading In[193], in expression starting on line 20",
     "output_type": "error",
     "traceback": [
      "type Programmer has no field AssignProjcet\nwhile loading In[193], in expression starting on line 20",
      ""
     ]
    }
   ],
   "source": [
    "module Fail\n",
    "type Programmer \n",
    "    id::Int64\n",
    "    project::String\n",
    "    Programmer(id, project) = new(id, project)\n",
    "    \n",
    "    ## Many OO program will \"link/associate/bind/boundle\" function with it's type/class\n",
    "    function AssignProjcet (newProjcet)\n",
    "        project = newProjcet\n",
    "    end\n",
    "    # NOT quite what julia is design for\n",
    "end\n",
    "end\n",
    "\n",
    "\n",
    "using Fail\n",
    "prog1 = Fail.Programmer(10, \"old project\")\n",
    "println (prog1)\n",
    "\n",
    "prog1.AssignProjcet(\"new project\") ## Error! you get `type Programmer has no field AssignProjcet`"
   ]
  }
 ],
 "metadata": {
  "kernelspec": {
   "display_name": "Julia 0.3.7",
   "language": "julia",
   "name": "julia 0.3"
  },
  "language_info": {
   "name": "julia",
   "version": "0.3.7"
  }
 },
 "nbformat": 4,
 "nbformat_minor": 0
}
